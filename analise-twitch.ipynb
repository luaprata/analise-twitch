{
 "cells": [
  {
   "cell_type": "code",
   "execution_count": null,
   "id": "a057dc7c",
   "metadata": {},
   "outputs": [
    {
     "name": "stderr",
     "output_type": "stream",
     "text": [
      "c:\\Users\\User\\AppData\\Local\\Programs\\Python\\Python312\\Lib\\site-packages\\bar_chart_race\\_make_chart.py:286: UserWarning: set_ticklabels() should only be used with a fixed number of ticks, i.e. after set_ticks() or using a FixedLocator.\n",
      "  ax.set_yticklabels(self.df_values.columns)\n",
      "c:\\Users\\User\\AppData\\Local\\Programs\\Python\\Python312\\Lib\\site-packages\\bar_chart_race\\_make_chart.py:287: UserWarning: set_ticklabels() should only be used with a fixed number of ticks, i.e. after set_ticks() or using a FixedLocator.\n",
      "  ax.set_xticklabels([max_val] * len(ax.get_xticks()))\n",
      "MovieWriter imagemagick unavailable; using Pillow instead.\n"
     ]
    }
   ],
   "source": [
    "import pandas as pd\n",
    "import bar_chart_race as bcr\n",
    "\n",
    "# 1. Ler dados\n",
    "df = pd.read_csv(\"Twitch_game_data.csv\", encoding='latin1')\n",
    "df = df[['Game', 'Month', 'Year', 'Hours_watched']]\n",
    "df['Date'] = pd.to_datetime(df[['Year', 'Month']].assign(DAY=1))\n",
    "df = df[df['Date'] >= '2016-01-01']\n",
    "\n",
    "# 2. Filtrar categorias não-jogo\n",
    "categorias_invalidas = [\n",
    "    'Music', 'Just Chatting', 'Talk Shows & Podcasts', 'ASMR',\n",
    "    'Creative', 'Travel & Outdoors', 'Special Events', 'Science & Technology'\n",
    "]\n",
    "df = df[~df['Game'].isin(categorias_invalidas)]\n",
    "\n",
    "# 3. Customização do eixo X com formato 'kk'\n",
    "def custom_format(ax):\n",
    "    ax.xaxis.set_major_formatter(ticker.FuncFormatter(lambda x, _: f'{int(x/1_000_000)}kk'))\n",
    "\n",
    "# 4. Top 10 jogos\n",
    "top_games = df.groupby('Game')['Hours_watched'].sum().sort_values(ascending=False).head(10).index.tolist()\n",
    "df_top = df[df['Game'].isin(top_games)]\n",
    "\n",
    "# 5. Pivot + milhões\n",
    "df_pivot = df_top.pivot_table(index='Date', columns='Game', values='Hours_watched', aggfunc='sum').fillna(0)\n",
    "\n",
    "# 6. Rodar gráfico\n",
    "bcr.bar_chart_race(\n",
    "    df=df_pivot,\n",
    "    filename='twitch_top10_games.gif',\n",
    "    n_bars=10,\n",
    "    sort='desc',\n",
    "    orientation='h',\n",
    "    fixed_order=False,\n",
    "    fixed_max=True,\n",
    "    steps_per_period=20,\n",
    "    period_length=1300,\n",
    "    interpolate_period=True,\n",
    "    bar_size=0.95,\n",
    "    period_fmt='%b %Y',\n",
    "    title='Top 10 Jogos Mais Assistidos na Twitch (2016–2024)',\n",
    "    period_label={'x': 0.5, 'y': 0.50, 'ha': 'center', 'va': 'bottom'},\n",
    "    dpi=144\n",
    ")"
   ]
  }
 ],
 "metadata": {
  "kernelspec": {
   "display_name": "Python 3",
   "language": "python",
   "name": "python3"
  },
  "language_info": {
   "codemirror_mode": {
    "name": "ipython",
    "version": 3
   },
   "file_extension": ".py",
   "mimetype": "text/x-python",
   "name": "python",
   "nbconvert_exporter": "python",
   "pygments_lexer": "ipython3",
   "version": "3.12.3"
  }
 },
 "nbformat": 4,
 "nbformat_minor": 5
}
